{
 "cells": [
  {
   "cell_type": "markdown",
   "metadata": {},
   "source": [
    "# CSV"
   ]
  },
  {
   "cell_type": "code",
   "execution_count": 73,
   "metadata": {},
   "outputs": [],
   "source": [
    "import pandas as pd"
   ]
  },
  {
   "cell_type": "code",
   "execution_count": 74,
   "metadata": {},
   "outputs": [],
   "source": [
    "data = pd.read_csv('encryption.csv')"
   ]
  },
  {
   "cell_type": "code",
   "execution_count": 149,
   "metadata": {},
   "outputs": [],
   "source": [
    "def encrypt(input_text):\n",
    "    new_text = ''\n",
    "    upper_code = ''\n",
    "\n",
    "    for character in input_text.upper():\n",
    "        new_text += data[data['Letter'] == character]['Code'].iloc[0] + '!~!'\n",
    "    \n",
    "    for character in input_text:\n",
    "        upper_code += str(int(character.isupper()))\n",
    "\n",
    "    return new_text, upper_code"
   ]
  },
  {
   "cell_type": "code",
   "execution_count": 154,
   "metadata": {},
   "outputs": [],
   "source": [
    "def decrypt(output_text, output_code):\n",
    "    output_text = output_text.replace('!~!', ' ')\n",
    "    text_list = output_text.split()\n",
    "    \n",
    "    original_text = ''\n",
    "    final_text = ''\n",
    "    \n",
    "    for text in text_list:\n",
    "        original_text += data[data['Code'] == text]['Letter'].iloc[0]\n",
    "\n",
    "    out = original_text.lower()\n",
    "    for i in range(len(out)):\n",
    "        if output_code[i] == '1':\n",
    "            final_text += out[i].upper()\n",
    "        else:\n",
    "            final_text += out[i]\n",
    "    \n",
    "    return final_text\n"
   ]
  },
  {
   "cell_type": "code",
   "execution_count": 169,
   "metadata": {},
   "outputs": [
    {
     "name": "stdout",
     "output_type": "stream",
     "text": [
      "Veer Sandhu \n",
      "\n",
      "{]]]JF&8!~!^*#K;FSD!~!^*#K;FSD!~!%%**HJU!~!(^#&(#!~!WA&*QWE!~!SD#*(H!~!#@(JLKJ!~!RET&*!~!F\\GDS[!~!SAK**(!~! \n",
      "10000100000\n",
      "\n",
      "Veer Sandhu\n"
     ]
    }
   ],
   "source": [
    "input_text = input()\n",
    "\n",
    "print(input_text,'\\n')\n",
    "\n",
    "a, b = encrypt(input_text)\n",
    "\n",
    "print(a, f'\\n{b}\\n')\n",
    "\n",
    "print(decrypt(a, b))"
   ]
  },
  {
   "cell_type": "markdown",
   "metadata": {},
   "source": [
    "# JSON"
   ]
  },
  {
   "cell_type": "code",
   "execution_count": 1,
   "metadata": {},
   "outputs": [],
   "source": [
    "import json"
   ]
  },
  {
   "cell_type": "code",
   "execution_count": 3,
   "metadata": {},
   "outputs": [],
   "source": [
    "path = 'key_val.json'\n",
    "with open(path) as f:\n",
    "    data_json = json.load(f)"
   ]
  },
  {
   "cell_type": "code",
   "execution_count": 16,
   "metadata": {},
   "outputs": [
    {
     "name": "stdout",
     "output_type": "stream",
     "text": [
      "SD#*(H\n"
     ]
    }
   ],
   "source": [
    "for i in range(len(data_json)):\n",
    "    if (data_json[i]['Letter'] == 'A'):\n",
    "        print(data_json[i]['Code'])"
   ]
  },
  {
   "cell_type": "code",
   "execution_count": 28,
   "metadata": {},
   "outputs": [],
   "source": [
    "def encrypt2(input_text):\n",
    "    new_text = ''\n",
    "    upper_code = ''\n",
    "\n",
    "    for character in input_text.upper():\n",
    "        for i in range(len(data_json)):\n",
    "            if (data_json[i]['Letter'] == character):\n",
    "                new_text += (data_json[i]['Code']) +'!~!'\n",
    "    \n",
    "    for character in input_text:\n",
    "        upper_code += str(int(character.isupper()))\n",
    "\n",
    "    return new_text, upper_code"
   ]
  },
  {
   "cell_type": "code",
   "execution_count": 29,
   "metadata": {},
   "outputs": [],
   "source": [
    "def decrypt2(output_text, output_code):\n",
    "    output_text = output_text.replace('!~!', ' ')\n",
    "    text_list = output_text.split()\n",
    "    \n",
    "    original_text = ''\n",
    "    cased_text = ''\n",
    "    \n",
    "    for text in text_list:\n",
    "        for i in range(len(data_json)):\n",
    "            if (data_json[i]['Code'] == text):\n",
    "                original_text += (data_json[i]['Letter'])\n",
    "\n",
    "\n",
    "    out = original_text.lower()\n",
    "    for i in range(len(out)):\n",
    "        if output_code[i] == '1':\n",
    "            cased_text += out[i].upper()\n",
    "        else:\n",
    "            cased_text += out[i]\n",
    "    \n",
    "    return cased_text\n"
   ]
  },
  {
   "cell_type": "code",
   "execution_count": 31,
   "metadata": {},
   "outputs": [
    {
     "name": "stdout",
     "output_type": "stream",
     "text": [
      "Veer Sandhu \n",
      "\n",
      "{]]]JF&8!~!^*#K;FSD!~!^*#K;FSD!~!%%**HJU!~!(^#&(#!~!WA&*QWE!~!SD#*(H!~!#@(JLKJ!~!RET&*!~!F\\GDS[!~!SAK**(!~! \n",
      "10000100000\n",
      "\n",
      "Veer Sandhu\n"
     ]
    }
   ],
   "source": [
    "input_text2 = input()\n",
    "\n",
    "print(input_text2,'\\n')\n",
    "\n",
    "a2, b2 = encrypt2(input_text2)\n",
    "\n",
    "print(a2, f'\\n{b2}\\n')\n",
    "\n",
    "print(decrypt2(a2, b2))"
   ]
  }
 ],
 "metadata": {
  "interpreter": {
   "hash": "bb04143b76cf4aa8b010820e1498da26f1eeac71d04edabfea3b39816255051b"
  },
  "kernelspec": {
   "display_name": "Python 3.8.12 64-bit ('main_env1': conda)",
   "name": "python3"
  },
  "language_info": {
   "codemirror_mode": {
    "name": "ipython",
    "version": 3
   },
   "file_extension": ".py",
   "mimetype": "text/x-python",
   "name": "python",
   "nbconvert_exporter": "python",
   "pygments_lexer": "ipython3",
   "version": "3.8.12"
  },
  "orig_nbformat": 4
 },
 "nbformat": 4,
 "nbformat_minor": 2
}
